{
  "nbformat": 4,
  "nbformat_minor": 0,
  "metadata": {
    "colab": {
      "provenance": [],
      "collapsed_sections": []
    },
    "kernelspec": {
      "name": "python3",
      "display_name": "Python 3"
    },
    "gpuClass": "standard"
  },
  "cells": [
    {
      "cell_type": "code",
      "metadata": {
        "id": "wDlWLbfkJtvu",
        "cellView": "form"
      },
      "source": [
        "#@title Copyright 2020 Google LLC. Double-click for license information.\n",
        "# Licensed under the Apache License, Version 2.0 (the \"License\");\n",
        "# you may not use this file except in compliance with the License.\n",
        "# You may obtain a copy of the License at\n",
        "#\n",
        "# https://www.apache.org/licenses/LICENSE-2.0\n",
        "#\n",
        "# Unless required by applicable law or agreed to in writing, software\n",
        "# distributed under the License is distributed on an \"AS IS\" BASIS,\n",
        "# WITHOUT WARRANTIES OR CONDITIONS OF ANY KIND, either express or implied.\n",
        "# See the License for the specific language governing permissions and\n",
        "# limitations under the License."
      ],
      "execution_count": 1,
      "outputs": []
    },
    {
      "cell_type": "markdown",
      "metadata": {
        "id": "T4r2z30vJSbA"
      },
      "source": [
        "# Colabs\n",
        "\n",
        "Machine Learning Crash Course uses Colaboratories (Colabs) for all programming exercises. Colab is Google's implementation of [Jupyter Notebook](https://jupyter.org/). For more information about Colabs and how to use them, go to [Welcome to Colaboratory](https://research.google.com/colaboratory)."
      ]
    },
    {
      "cell_type": "markdown",
      "metadata": {
        "id": "TL5y5fY9Jy_x"
      },
      "source": [
        "# Representation with a Feature Cross\n",
        "\n",
        "In this exercise, you'll experiment with different ways to represent features."
      ]
    },
    {
      "cell_type": "markdown",
      "metadata": {
        "id": "RXWoPIezkzgI"
      },
      "source": [
        "## Learning Objectives:\n",
        "\n",
        "After doing this Colab, you'll know how to:\n",
        "\n",
        "  * Use [`tf.feature_column`](https://www.tensorflow.org/api_docs/python/tf/feature_column) methods to represent features in different ways.\n",
        "  * Represent features as [bins](https://developers.google.com/machine-learning/glossary/#bucketing). \n",
        "  * Cross bins to create a [feature cross](https://developers.google.com/machine-learning/glossary/#feature_cross). "
      ]
    },
    {
      "cell_type": "markdown",
      "metadata": {
        "id": "lH_g3Hsfkzzb"
      },
      "source": [
        "## The Dataset\n",
        "  \n",
        "Like several of the previous Colabs, this exercise uses the [California Housing Dataset](https://developers.google.com/machine-learning/crash-course/california-housing-data-description)."
      ]
    },
    {
      "cell_type": "markdown",
      "metadata": {
        "id": "5iuw6-JOGf7I"
      },
      "source": [
        "## Call the import statements\n",
        "\n",
        "The following code imports the necessary code to run the code in the rest of this Colaboratory."
      ]
    },
    {
      "cell_type": "code",
      "metadata": {
        "id": "9n9_cTveKmse",
        "cellView": "form",
        "colab": {
          "base_uri": "https://localhost:8080/"
        },
        "outputId": "2aa4e96b-320c-4414-86d1-fafe3049258a"
      },
      "source": [
        "#@title Load the imports\n",
        "\n",
        "import numpy as np\n",
        "import pandas as pd\n",
        "import tensorflow as tf\n",
        "from tensorflow import feature_column\n",
        "from tensorflow.keras import layers\n",
        "\n",
        "from matplotlib import pyplot as plt\n",
        "\n",
        "# The following lines adjust the granularity of reporting.\n",
        "pd.options.display.max_rows = 10\n",
        "pd.options.display.float_format = \"{:.1f}\".format\n",
        "\n",
        "tf.keras.backend.set_floatx('float32')\n",
        "\n",
        "print(\"Imported the modules.\")"
      ],
      "execution_count": 2,
      "outputs": [
        {
          "output_type": "stream",
          "name": "stdout",
          "text": [
            "Imported the modules.\n"
          ]
        }
      ]
    },
    {
      "cell_type": "markdown",
      "metadata": {
        "id": "X_TaJhU4KcuY"
      },
      "source": [
        "## Load, scale, and shuffle the examples\n",
        "\n",
        "The following code cell loads the separate .csv files and creates the following two pandas DataFrames:\n",
        "\n",
        "* `train_df`, which contains the training set\n",
        "* `test_df`, which contains the test set\n",
        "\n",
        "The code cell then scales the `median_house_value` to a more human-friendly range and then shuffles the examples."
      ]
    },
    {
      "cell_type": "code",
      "metadata": {
        "id": "JZlvdpyYKx7V"
      },
      "source": [
        "# Load the dataset\n",
        "train_df = pd.read_csv(\"https://download.mlcc.google.com/mledu-datasets/california_housing_train.csv\")\n",
        "test_df = pd.read_csv(\"https://download.mlcc.google.com/mledu-datasets/california_housing_test.csv\")\n",
        "\n",
        "# Scale the labels\n",
        "scale_factor = 1000.0\n",
        "# Scale the training set's label.\n",
        "train_df[\"median_house_value\"] /= scale_factor \n",
        "\n",
        "# Scale the test set's label\n",
        "test_df[\"median_house_value\"] /= scale_factor\n",
        "\n",
        "# Shuffle the examples\n",
        "train_df = train_df.reindex(np.random.permutation(train_df.index))"
      ],
      "execution_count": 3,
      "outputs": []
    },
    {
      "cell_type": "markdown",
      "metadata": {
        "id": "8kir8UTUXSV8"
      },
      "source": [
        "## Represent latitude and longitude as floating-point values\n",
        "\n",
        "Previous Colabs trained on only a single feature or a single synthetic feature. By contrast, this exercise trains on two features. Furthermore, this Colab introduces **feature columns**, which provide a sophisticated way to represent features.  \n",
        "\n",
        "You create feature columns as follows:\n",
        "\n",
        "  * Call a [`tf.feature_column`](https://www.tensorflow.org/api_docs/python/tf/feature_column) method to represent a single feature, single feature cross, or single synthetic feature in the desired way.  For example, to represent a certain feature as floating-point values, call [`tf.feature_column.numeric_column`](https://www.tensorflow.org/api_docs/python/tf/feature_column/numeric_column). To represent a certain feature as a series of buckets or bins, call [`tf.feature_column.bucketized_column`](https://www.tensorflow.org/api_docs/python/tf/feature_column/bucketized_column).\n",
        "  * Assemble the created representations into a Python list. \n",
        "\n",
        "A neighborhood's location is typically the most important feature in determining a house's value. The California Housing dataset provides two features, `latitude` and `longitude` that identify each neighborhood's location. \n",
        "\n",
        "The following code cell calls [`tf.feature_column.numeric_column`](https://www.tensorflow.org/api_docs/python/tf/feature_column/numeric_column) twice, first to represent `latitude` as floating-point value and a second time to represent `longitude` as floating-point values. \n",
        "\n",
        "This code cell specifies the features that you'll ultimately train the model on and how each of those features will be represented. The transformations (collected in `fp_feature_layer`) don't actually get applied until you pass a DataFrame to it, which will happen when we train the model. \n"
      ]
    },
    {
      "cell_type": "code",
      "metadata": {
        "id": "3tmmZIDw4JEC"
      },
      "source": [
        "# Create an empty list that will eventually hold all feature columns.\n",
        "feature_columns = []\n",
        "\n",
        "# Create a numerical feature column to represent latitude.\n",
        "latitude = tf.feature_column.numeric_column(\"latitude\")\n",
        "feature_columns.append(latitude)\n",
        "\n",
        "# Create a numerical feature column to represent longitude.\n",
        "longitude = tf.feature_column.numeric_column(\"longitude\")\n",
        "feature_columns.append(longitude)\n",
        "\n",
        "# Convert the list of feature columns into a layer that will ultimately become\n",
        "# part of the model. Understanding layers is not important right now.\n",
        "fp_feature_layer = layers.DenseFeatures(feature_columns)"
      ],
      "execution_count": 4,
      "outputs": []
    },
    {
      "cell_type": "markdown",
      "metadata": {
        "id": "Q2x8sHKnAy3Q"
      },
      "source": [
        "When used, the layer processes the raw inputs, according to the transformations described by the feature columns, and packs the result into a numeric array.  (The model will train on this numeric array.) "
      ]
    },
    {
      "cell_type": "markdown",
      "metadata": {
        "id": "3014ezH3C7jT"
      },
      "source": [
        "## Define functions that create and train a model, and a plotting function\n",
        "\n",
        "The following code defines three functions:\n",
        "\n",
        "  * `create_model`, which tells TensorFlow to build a linear regression model and to use the `feature_layer_as_fp` as the representation of the model's features.\n",
        "  * `train_model`, which will ultimately train the model from training set examples.\n",
        "  * `plot_the_loss_curve`, which generates a loss curve."
      ]
    },
    {
      "cell_type": "code",
      "metadata": {
        "id": "pedD5GhlDC-y",
        "cellView": "form",
        "colab": {
          "base_uri": "https://localhost:8080/"
        },
        "outputId": "5226b5f2-745e-4369-845a-92b66e9650bc"
      },
      "source": [
        "#@title Define functions to create and train a model, and a plotting function\n",
        "def create_model(my_learning_rate, feature_layer):\n",
        "  \"\"\"Create and compile a simple linear regression model.\"\"\"\n",
        "  # Most simple tf.keras models are sequential.\n",
        "  model = tf.keras.models.Sequential()\n",
        "\n",
        "  # Add the layer containing the feature columns to the model.\n",
        "  model.add(feature_layer)\n",
        "\n",
        "  # Add one linear layer to the model to yield a simple linear regressor.\n",
        "  model.add(tf.keras.layers.Dense(units=1, input_shape=(1,)))\n",
        "\n",
        "  # Construct the layers into a model that TensorFlow can execute.\n",
        "  model.compile(optimizer=tf.keras.optimizers.RMSprop(lr=my_learning_rate),\n",
        "                loss=\"mean_squared_error\",\n",
        "                metrics=[tf.keras.metrics.RootMeanSquaredError()])\n",
        "\n",
        "  return model           \n",
        "\n",
        "\n",
        "def train_model(model, dataset, epochs, batch_size, label_name):\n",
        "  \"\"\"Feed a dataset into the model in order to train it.\"\"\"\n",
        "\n",
        "  features = {name:np.array(value) for name, value in dataset.items()}\n",
        "  label = np.array(features.pop(label_name))\n",
        "  history = model.fit(x=features, y=label, batch_size=batch_size,\n",
        "                      epochs=epochs, shuffle=True)\n",
        "\n",
        "  # The list of epochs is stored separately from the rest of history.\n",
        "  epochs = history.epoch\n",
        "  \n",
        "  # Isolate the mean absolute error for each epoch.\n",
        "  hist = pd.DataFrame(history.history)\n",
        "  rmse = hist[\"root_mean_squared_error\"]\n",
        "\n",
        "  return epochs, rmse   \n",
        "\n",
        "\n",
        "def plot_the_loss_curve(epochs, rmse):\n",
        "  \"\"\"Plot a curve of loss vs. epoch.\"\"\"\n",
        "\n",
        "  plt.figure()\n",
        "  plt.xlabel(\"Epoch\")\n",
        "  plt.ylabel(\"Root Mean Squared Error\")\n",
        "\n",
        "  plt.plot(epochs, rmse, label=\"Loss\")\n",
        "  plt.legend()\n",
        "  plt.ylim([rmse.min()*0.94, rmse.max()* 1.05])\n",
        "  plt.show()  \n",
        "\n",
        "print(\"Defined the create_model, train_model, and plot_the_loss_curve functions.\")"
      ],
      "execution_count": 5,
      "outputs": [
        {
          "output_type": "stream",
          "name": "stdout",
          "text": [
            "Defined the create_model, train_model, and plot_the_loss_curve functions.\n"
          ]
        }
      ]
    },
    {
      "cell_type": "markdown",
      "metadata": {
        "id": "D-IXYVfvM4gD"
      },
      "source": [
        "## Train the model with floating-point representations\n",
        "\n",
        "The following code cell calls the functions you just created to train, plot, and evaluate a model."
      ]
    },
    {
      "cell_type": "code",
      "metadata": {
        "id": "nj3v5EKQFY8s",
        "cellView": "both",
        "colab": {
          "base_uri": "https://localhost:8080/",
          "height": 1000
        },
        "outputId": "0234e37a-722c-4071-c168-c7d85912ade3"
      },
      "source": [
        "# The following variables are the hyperparameters.\n",
        "learning_rate = 0.05\n",
        "epochs = 30\n",
        "batch_size = 100\n",
        "label_name = 'median_house_value'\n",
        "\n",
        "# Create and compile the model's topography.\n",
        "my_model = create_model(learning_rate, fp_feature_layer)\n",
        "\n",
        "# Train the model on the training set.\n",
        "epochs, rmse = train_model(my_model, train_df, epochs, batch_size, label_name)\n",
        "\n",
        "plot_the_loss_curve(epochs, rmse)\n",
        "\n",
        "print(\"\\n: Evaluate the new model against the test set:\")\n",
        "test_features = {name:np.array(value) for name, value in test_df.items()}\n",
        "test_label = np.array(test_features.pop(label_name))\n",
        "my_model.evaluate(x=test_features, y=test_label, batch_size=batch_size)"
      ],
      "execution_count": 6,
      "outputs": [
        {
          "output_type": "stream",
          "name": "stderr",
          "text": [
            "/usr/local/lib/python3.7/dist-packages/keras/optimizers/optimizer_v2/rmsprop.py:135: UserWarning: The `lr` argument is deprecated, use `learning_rate` instead.\n",
            "  super(RMSprop, self).__init__(name, **kwargs)\n"
          ]
        },
        {
          "output_type": "stream",
          "name": "stdout",
          "text": [
            "Epoch 1/30\n"
          ]
        },
        {
          "output_type": "stream",
          "name": "stderr",
          "text": [
            "WARNING:tensorflow:Layers in a Sequential model should only have a single input tensor. Received: inputs={'longitude': <tf.Tensor 'IteratorGetNext:3' shape=(100,) dtype=float32>, 'latitude': <tf.Tensor 'IteratorGetNext:2' shape=(100,) dtype=float32>, 'housing_median_age': <tf.Tensor 'IteratorGetNext:1' shape=(100,) dtype=float32>, 'total_rooms': <tf.Tensor 'IteratorGetNext:7' shape=(100,) dtype=float32>, 'total_bedrooms': <tf.Tensor 'IteratorGetNext:6' shape=(100,) dtype=float32>, 'population': <tf.Tensor 'IteratorGetNext:5' shape=(100,) dtype=float32>, 'households': <tf.Tensor 'IteratorGetNext:0' shape=(100,) dtype=float32>, 'median_income': <tf.Tensor 'IteratorGetNext:4' shape=(100,) dtype=float32>}. Consider rewriting this model with the Functional API.\n",
            "WARNING:tensorflow:Layers in a Sequential model should only have a single input tensor. Received: inputs={'longitude': <tf.Tensor 'IteratorGetNext:3' shape=(100,) dtype=float32>, 'latitude': <tf.Tensor 'IteratorGetNext:2' shape=(100,) dtype=float32>, 'housing_median_age': <tf.Tensor 'IteratorGetNext:1' shape=(100,) dtype=float32>, 'total_rooms': <tf.Tensor 'IteratorGetNext:7' shape=(100,) dtype=float32>, 'total_bedrooms': <tf.Tensor 'IteratorGetNext:6' shape=(100,) dtype=float32>, 'population': <tf.Tensor 'IteratorGetNext:5' shape=(100,) dtype=float32>, 'households': <tf.Tensor 'IteratorGetNext:0' shape=(100,) dtype=float32>, 'median_income': <tf.Tensor 'IteratorGetNext:4' shape=(100,) dtype=float32>}. Consider rewriting this model with the Functional API.\n"
          ]
        },
        {
          "output_type": "stream",
          "name": "stdout",
          "text": [
            "170/170 [==============================] - 3s 11ms/step - loss: 13816.6885 - root_mean_squared_error: 117.5444\n",
            "Epoch 2/30\n",
            "170/170 [==============================] - 1s 7ms/step - loss: 13494.8545 - root_mean_squared_error: 116.1674\n",
            "Epoch 3/30\n",
            "170/170 [==============================] - 1s 8ms/step - loss: 13440.9922 - root_mean_squared_error: 115.9353\n",
            "Epoch 4/30\n",
            "170/170 [==============================] - 2s 10ms/step - loss: 13395.0918 - root_mean_squared_error: 115.7372\n",
            "Epoch 5/30\n",
            "170/170 [==============================] - 1s 9ms/step - loss: 13348.3877 - root_mean_squared_error: 115.5352\n",
            "Epoch 6/30\n",
            "170/170 [==============================] - 1s 8ms/step - loss: 13294.8438 - root_mean_squared_error: 115.3033\n",
            "Epoch 7/30\n",
            "170/170 [==============================] - 2s 9ms/step - loss: 13246.0938 - root_mean_squared_error: 115.0917\n",
            "Epoch 8/30\n",
            "170/170 [==============================] - 2s 12ms/step - loss: 13233.3916 - root_mean_squared_error: 115.0365\n",
            "Epoch 9/30\n",
            "170/170 [==============================] - 1s 8ms/step - loss: 13187.9727 - root_mean_squared_error: 114.8389\n",
            "Epoch 10/30\n",
            "170/170 [==============================] - 1s 8ms/step - loss: 13159.0957 - root_mean_squared_error: 114.7131\n",
            "Epoch 11/30\n",
            "170/170 [==============================] - 2s 11ms/step - loss: 13134.4951 - root_mean_squared_error: 114.6058\n",
            "Epoch 12/30\n",
            "170/170 [==============================] - 2s 11ms/step - loss: 13094.1943 - root_mean_squared_error: 114.4299\n",
            "Epoch 13/30\n",
            "170/170 [==============================] - 1s 8ms/step - loss: 13066.1924 - root_mean_squared_error: 114.3074\n",
            "Epoch 14/30\n",
            "170/170 [==============================] - 1s 4ms/step - loss: 13053.8721 - root_mean_squared_error: 114.2535\n",
            "Epoch 15/30\n",
            "170/170 [==============================] - 1s 4ms/step - loss: 13038.2402 - root_mean_squared_error: 114.1851\n",
            "Epoch 16/30\n",
            "170/170 [==============================] - 1s 5ms/step - loss: 13005.8037 - root_mean_squared_error: 114.0430\n",
            "Epoch 17/30\n",
            "170/170 [==============================] - 1s 4ms/step - loss: 12992.6104 - root_mean_squared_error: 113.9851\n",
            "Epoch 18/30\n",
            "170/170 [==============================] - 1s 4ms/step - loss: 12971.3057 - root_mean_squared_error: 113.8916\n",
            "Epoch 19/30\n",
            "170/170 [==============================] - 1s 7ms/step - loss: 12964.3887 - root_mean_squared_error: 113.8613\n",
            "Epoch 20/30\n",
            "170/170 [==============================] - 1s 5ms/step - loss: 12946.3848 - root_mean_squared_error: 113.7822\n",
            "Epoch 21/30\n",
            "170/170 [==============================] - 0s 2ms/step - loss: 12916.6631 - root_mean_squared_error: 113.6515\n",
            "Epoch 22/30\n",
            "170/170 [==============================] - 0s 2ms/step - loss: 12923.0811 - root_mean_squared_error: 113.6797\n",
            "Epoch 23/30\n",
            "170/170 [==============================] - 0s 2ms/step - loss: 12902.9805 - root_mean_squared_error: 113.5913\n",
            "Epoch 24/30\n",
            "170/170 [==============================] - 0s 2ms/step - loss: 12893.5781 - root_mean_squared_error: 113.5499\n",
            "Epoch 25/30\n",
            "170/170 [==============================] - 0s 2ms/step - loss: 12875.2021 - root_mean_squared_error: 113.4689\n",
            "Epoch 26/30\n",
            "170/170 [==============================] - 0s 2ms/step - loss: 12877.3457 - root_mean_squared_error: 113.4784\n",
            "Epoch 27/30\n",
            "170/170 [==============================] - 0s 2ms/step - loss: 12847.3887 - root_mean_squared_error: 113.3463\n",
            "Epoch 28/30\n",
            "170/170 [==============================] - 0s 2ms/step - loss: 12862.9277 - root_mean_squared_error: 113.4148\n",
            "Epoch 29/30\n",
            "170/170 [==============================] - 0s 2ms/step - loss: 12849.9971 - root_mean_squared_error: 113.3578\n",
            "Epoch 30/30\n",
            "170/170 [==============================] - 0s 2ms/step - loss: 12830.8350 - root_mean_squared_error: 113.2733\n"
          ]
        },
        {
          "output_type": "display_data",
          "data": {
            "text/plain": [
              "<Figure size 432x288 with 1 Axes>"
            ],
            "image/png": "[encoded data removed]"
          },
          "metadata": {
            "needs_background": "light"
          }
        },
        {
          "output_type": "stream",
          "name": "stderr",
          "text": [
            "WARNING:tensorflow:Layers in a Sequential model should only have a single input tensor. Received: inputs={'longitude': <tf.Tensor 'IteratorGetNext:3' shape=(100,) dtype=float32>, 'latitude': <tf.Tensor 'IteratorGetNext:2' shape=(100,) dtype=float32>, 'housing_median_age': <tf.Tensor 'IteratorGetNext:1' shape=(100,) dtype=float32>, 'total_rooms': <tf.Tensor 'IteratorGetNext:7' shape=(100,) dtype=float32>, 'total_bedrooms': <tf.Tensor 'IteratorGetNext:6' shape=(100,) dtype=float32>, 'population': <tf.Tensor 'IteratorGetNext:5' shape=(100,) dtype=float32>, 'households': <tf.Tensor 'IteratorGetNext:0' shape=(100,) dtype=float32>, 'median_income': <tf.Tensor 'IteratorGetNext:4' shape=(100,) dtype=float32>}. Consider rewriting this model with the Functional API.\n"
          ]
        },
        {
          "output_type": "stream",
          "name": "stdout",
          "text": [
            "\n",
            ": Evaluate the new model against the test set:\n",
            "30/30 [==============================] - 0s 2ms/step - loss: 12196.9561 - root_mean_squared_error: 110.4398\n"
          ]
        },
        {
          "output_type": "execute_result",
          "data": {
            "text/plain": [
              "[12196.9560546875, 110.43982696533203]"
            ]
          },
          "metadata": {},
          "execution_count": 6
        }
      ]
    },
    {
      "cell_type": "markdown",
      "metadata": {
        "id": "dbyWNS6T2fIT"
      },
      "source": [
        "## Task 1: Why aren't floating-point values a good way to represent latitude and longitude?\n",
        "\n",
        "Are floating-point values a good way to represent `latitude` and `longitude`? \n",
        "\n",
        "No, because they're too specific, and can't be used for predictions"
      ]
    },
    {
      "cell_type": "code",
      "metadata": {
        "id": "VJLDCu5M2hXX"
      },
      "source": [
        "#@title Double-click to view an answer to Task 1.\n",
        "\n",
        "# No. Representing latitude and longitude as \n",
        "# floating-point values does not have much \n",
        "# predictive power. For example, neighborhoods at \n",
        "# latitude 35 are not 36/35 more valuable \n",
        "# (or 35/36 less valuable) than houses at \n",
        "# latitude 36.\n",
        "\n",
        "# Representing `latitude` and `longitude` as \n",
        "# floating-point values provides almost no \n",
        "# predictive power. We're only using the raw values \n",
        "# to establish a baseline for future experiments \n",
        "# with better representations."
      ],
      "execution_count": 7,
      "outputs": []
    },
    {
      "cell_type": "markdown",
      "metadata": {
        "id": "Na8TPoPYx-0k"
      },
      "source": [
        "## Represent latitude and longitude in buckets\n",
        "\n",
        "The following code cell represents latitude and longitude in buckets (bins). Each bin represents all the neighborhoods within a single degree. For example,\n",
        "neighborhoods at latitude 35.4 and 35.8 are in the same bucket, but neighborhoods in latitude 35.4 and 36.2 are in different buckets. \n",
        "\n",
        "The model will learn a separate weight for each bucket. For example, the model will learn one weight for all the neighborhoods in the \"35\" bin, a different weight for neighborhoods in the \"36\" bin, and so on. This representation will create approximately 20 buckets:\n",
        " \n",
        "  * 10 buckets for `latitude`. \n",
        "  * 10 buckets for `longitude`. "
      ]
    },
    {
      "cell_type": "code",
      "metadata": {
        "id": "WLTUFiaUyIpx"
      },
      "source": [
        "resolution_in_degrees = 1.0 \n",
        "\n",
        "# Create a new empty list that will eventually hold the generated feature column.\n",
        "feature_columns = []\n",
        "\n",
        "# Create a bucket feature column for latitude.\n",
        "latitude_as_a_numeric_column = tf.feature_column.numeric_column(\"latitude\")\n",
        "latitude_boundaries = list(np.arange(int(min(train_df['latitude'])), \n",
        "                                     int(max(train_df['latitude'])), \n",
        "                                     resolution_in_degrees))\n",
        "latitude = tf.feature_column.bucketized_column(latitude_as_a_numeric_column, \n",
        "                                               latitude_boundaries)\n",
        "feature_columns.append(latitude)\n",
        "\n",
        "# Create a bucket feature column for longitude.\n",
        "longitude_as_a_numeric_column = tf.feature_column.numeric_column(\"longitude\")\n",
        "longitude_boundaries = list(np.arange(int(min(train_df['longitude'])), \n",
        "                                      int(max(train_df['longitude'])), \n",
        "                                      resolution_in_degrees))\n",
        "longitude = tf.feature_column.bucketized_column(longitude_as_a_numeric_column, \n",
        "                                                longitude_boundaries)\n",
        "feature_columns.append(longitude)\n",
        "\n",
        "# Convert the list of feature columns into a layer that will ultimately become\n",
        "# part of the model. Understanding layers is not important right now.\n",
        "buckets_feature_layer = layers.DenseFeatures(feature_columns)"
      ],
      "execution_count": 8,
      "outputs": []
    },
    {
      "cell_type": "markdown",
      "metadata": {
        "id": "aZsFzoPQ4pFm"
      },
      "source": [
        "## Train the model with bucket representations\n",
        "\n",
        "Run the following code cell to train the model with bucket representations rather than floating-point representations:"
      ]
    },
    {
      "cell_type": "code",
      "metadata": {
        "id": "UnDrghxBzLvD",
        "colab": {
          "base_uri": "https://localhost:8080/",
          "height": 1000
        },
        "outputId": "679031bd-bd0f-48cb-9a20-6e422feef6c3"
      },
      "source": [
        "# The following variables are the hyperparameters.\n",
        "learning_rate = 0.04\n",
        "epochs = 35\n",
        "\n",
        "# Build the model, this time passing in the buckets_feature_layer.\n",
        "my_model = create_model(learning_rate, buckets_feature_layer)\n",
        "\n",
        "# Train the model on the training set.\n",
        "epochs, rmse = train_model(my_model, train_df, epochs, batch_size, label_name)\n",
        "\n",
        "plot_the_loss_curve(epochs, rmse)\n",
        "\n",
        "print(\"\\n: Evaluate the new model against the test set:\")\n",
        "my_model.evaluate(x=test_features, y=test_label, batch_size=batch_size)"
      ],
      "execution_count": 9,
      "outputs": [
        {
          "output_type": "stream",
          "name": "stdout",
          "text": [
            "Epoch 1/35\n"
          ]
        },
        {
          "output_type": "stream",
          "name": "stderr",
          "text": [
            "/usr/local/lib/python3.7/dist-packages/keras/optimizers/optimizer_v2/rmsprop.py:135: UserWarning: The `lr` argument is deprecated, use `learning_rate` instead.\n",
            "  super(RMSprop, self).__init__(name, **kwargs)\n",
            "WARNING:tensorflow:Layers in a Sequential model should only have a single input tensor. Received: inputs={'longitude': <tf.Tensor 'IteratorGetNext:3' shape=(100,) dtype=float32>, 'latitude': <tf.Tensor 'IteratorGetNext:2' shape=(100,) dtype=float32>, 'housing_median_age': <tf.Tensor 'IteratorGetNext:1' shape=(100,) dtype=float32>, 'total_rooms': <tf.Tensor 'IteratorGetNext:7' shape=(100,) dtype=float32>, 'total_bedrooms': <tf.Tensor 'IteratorGetNext:6' shape=(100,) dtype=float32>, 'population': <tf.Tensor 'IteratorGetNext:5' shape=(100,) dtype=float32>, 'households': <tf.Tensor 'IteratorGetNext:0' shape=(100,) dtype=float32>, 'median_income': <tf.Tensor 'IteratorGetNext:4' shape=(100,) dtype=float32>}. Consider rewriting this model with the Functional API.\n",
            "WARNING:tensorflow:Layers in a Sequential model should only have a single input tensor. Received: inputs={'longitude': <tf.Tensor 'IteratorGetNext:3' shape=(100,) dtype=float32>, 'latitude': <tf.Tensor 'IteratorGetNext:2' shape=(100,) dtype=float32>, 'housing_median_age': <tf.Tensor 'IteratorGetNext:1' shape=(100,) dtype=float32>, 'total_rooms': <tf.Tensor 'IteratorGetNext:7' shape=(100,) dtype=float32>, 'total_bedrooms': <tf.Tensor 'IteratorGetNext:6' shape=(100,) dtype=float32>, 'population': <tf.Tensor 'IteratorGetNext:5' shape=(100,) dtype=float32>, 'households': <tf.Tensor 'IteratorGetNext:0' shape=(100,) dtype=float32>, 'median_income': <tf.Tensor 'IteratorGetNext:4' shape=(100,) dtype=float32>}. Consider rewriting this model with the Functional API.\n"
          ]
        },
        {
          "output_type": "stream",
          "name": "stdout",
          "text": [
            "170/170 [==============================] - 1s 2ms/step - loss: 52071.3984 - root_mean_squared_error: 228.1916\n",
            "Epoch 2/35\n",
            "170/170 [==============================] - 0s 2ms/step - loss: 44679.3594 - root_mean_squared_error: 211.3749\n",
            "Epoch 3/35\n",
            "170/170 [==============================] - 0s 2ms/step - loss: 38072.0586 - root_mean_squared_error: 195.1206\n",
            "Epoch 4/35\n",
            "170/170 [==============================] - 0s 2ms/step - loss: 32274.3711 - root_mean_squared_error: 179.6507\n",
            "Epoch 5/35\n",
            "170/170 [==============================] - 0s 2ms/step - loss: 27262.8320 - root_mean_squared_error: 165.1146\n",
            "Epoch 6/35\n",
            "170/170 [==============================] - 0s 2ms/step - loss: 22993.2422 - root_mean_squared_error: 151.6352\n",
            "Epoch 7/35\n",
            "170/170 [==============================] - 0s 2ms/step - loss: 19485.8027 - root_mean_squared_error: 139.5916\n",
            "Epoch 8/35\n",
            "170/170 [==============================] - 0s 2ms/step - loss: 16666.4883 - root_mean_squared_error: 129.0987\n",
            "Epoch 9/35\n",
            "170/170 [==============================] - 0s 2ms/step - loss: 14549.8652 - root_mean_squared_error: 120.6228\n",
            "Epoch 10/35\n",
            "170/170 [==============================] - 0s 2ms/step - loss: 12983.6338 - root_mean_squared_error: 113.9457\n",
            "Epoch 11/35\n",
            "170/170 [==============================] - 0s 2ms/step - loss: 11948.3223 - root_mean_squared_error: 109.3084\n",
            "Epoch 12/35\n",
            "170/170 [==============================] - 0s 2ms/step - loss: 11322.0850 - root_mean_squared_error: 106.4053\n",
            "Epoch 13/35\n",
            "170/170 [==============================] - 0s 2ms/step - loss: 10983.7236 - root_mean_squared_error: 104.8033\n",
            "Epoch 14/35\n",
            "170/170 [==============================] - 0s 2ms/step - loss: 10794.9766 - root_mean_squared_error: 103.8989\n",
            "Epoch 15/35\n",
            "170/170 [==============================] - 0s 2ms/step - loss: 10676.1230 - root_mean_squared_error: 103.3253\n",
            "Epoch 16/35\n",
            "170/170 [==============================] - 0s 2ms/step - loss: 10601.8994 - root_mean_squared_error: 102.9655\n",
            "Epoch 17/35\n",
            "170/170 [==============================] - 0s 2ms/step - loss: 10552.2676 - root_mean_squared_error: 102.7242\n",
            "Epoch 18/35\n",
            "170/170 [==============================] - 0s 2ms/step - loss: 10518.3350 - root_mean_squared_error: 102.5589\n",
            "Epoch 19/35\n",
            "170/170 [==============================] - 0s 2ms/step - loss: 10493.4160 - root_mean_squared_error: 102.4374\n",
            "Epoch 20/35\n",
            "170/170 [==============================] - 0s 2ms/step - loss: 10475.1406 - root_mean_squared_error: 102.3481\n",
            "Epoch 21/35\n",
            "170/170 [==============================] - 0s 2ms/step - loss: 10460.2988 - root_mean_squared_error: 102.2756\n",
            "Epoch 22/35\n",
            "170/170 [==============================] - 0s 2ms/step - loss: 10447.6660 - root_mean_squared_error: 102.2138\n",
            "Epoch 23/35\n",
            "170/170 [==============================] - 0s 2ms/step - loss: 10436.2109 - root_mean_squared_error: 102.1578\n",
            "Epoch 24/35\n",
            "170/170 [==============================] - 0s 2ms/step - loss: 10425.7656 - root_mean_squared_error: 102.1066\n",
            "Epoch 25/35\n",
            "170/170 [==============================] - 0s 2ms/step - loss: 10415.8428 - root_mean_squared_error: 102.0580\n",
            "Epoch 26/35\n",
            "170/170 [==============================] - 0s 2ms/step - loss: 10406.3789 - root_mean_squared_error: 102.0117\n",
            "Epoch 27/35\n",
            "170/170 [==============================] - 0s 2ms/step - loss: 10397.6055 - root_mean_squared_error: 101.9687\n",
            "Epoch 28/35\n",
            "170/170 [==============================] - 0s 2ms/step - loss: 10389.2812 - root_mean_squared_error: 101.9278\n",
            "Epoch 29/35\n",
            "170/170 [==============================] - 0s 2ms/step - loss: 10381.1670 - root_mean_squared_error: 101.8880\n",
            "Epoch 30/35\n",
            "170/170 [==============================] - 0s 2ms/step - loss: 10373.3877 - root_mean_squared_error: 101.8498\n",
            "Epoch 31/35\n",
            "170/170 [==============================] - 0s 2ms/step - loss: 10366.3086 - root_mean_squared_error: 101.8151\n",
            "Epoch 32/35\n",
            "170/170 [==============================] - 0s 2ms/step - loss: 10359.2148 - root_mean_squared_error: 101.7802\n",
            "Epoch 33/35\n",
            "170/170 [==============================] - 0s 2ms/step - loss: 10352.6494 - root_mean_squared_error: 101.7480\n",
            "Epoch 34/35\n",
            "170/170 [==============================] - 0s 2ms/step - loss: 10345.9805 - root_mean_squared_error: 101.7152\n",
            "Epoch 35/35\n",
            "170/170 [==============================] - 0s 2ms/step - loss: 10339.6494 - root_mean_squared_error: 101.6841\n"
          ]
        },
        {
          "output_type": "display_data",
          "data": {
            "text/plain": [
              "<Figure size 432x288 with 1 Axes>"
            ],
            "image/png": "[encoded data removed]"
          },
          "metadata": {
            "needs_background": "light"
          }
        },
        {
          "output_type": "stream",
          "name": "stdout",
          "text": [
            "\n",
            ": Evaluate the new model against the test set:\n"
          ]
        },
        {
          "output_type": "stream",
          "name": "stderr",
          "text": [
            "WARNING:tensorflow:Layers in a Sequential model should only have a single input tensor. Received: inputs={'longitude': <tf.Tensor 'IteratorGetNext:3' shape=(100,) dtype=float32>, 'latitude': <tf.Tensor 'IteratorGetNext:2' shape=(100,) dtype=float32>, 'housing_median_age': <tf.Tensor 'IteratorGetNext:1' shape=(100,) dtype=float32>, 'total_rooms': <tf.Tensor 'IteratorGetNext:7' shape=(100,) dtype=float32>, 'total_bedrooms': <tf.Tensor 'IteratorGetNext:6' shape=(100,) dtype=float32>, 'population': <tf.Tensor 'IteratorGetNext:5' shape=(100,) dtype=float32>, 'households': <tf.Tensor 'IteratorGetNext:0' shape=(100,) dtype=float32>, 'median_income': <tf.Tensor 'IteratorGetNext:4' shape=(100,) dtype=float32>}. Consider rewriting this model with the Functional API.\n"
          ]
        },
        {
          "output_type": "stream",
          "name": "stdout",
          "text": [
            "30/30 [==============================] - 0s 2ms/step - loss: 10198.4355 - root_mean_squared_error: 100.9873\n"
          ]
        },
        {
          "output_type": "execute_result",
          "data": {
            "text/plain": [
              "[10198.435546875, 100.9873046875]"
            ]
          },
          "metadata": {},
          "execution_count": 9
        }
      ]
    },
    {
      "cell_type": "markdown",
      "metadata": {
        "id": "Wb-bIKsN5M48"
      },
      "source": [
        "## Task 2: Did buckets outperform floating-point representations?\n",
        " \n",
        "Compare the model's `root_mean_squared_error` values for the two representations (floating-point vs. buckets)?  Which model produced lower losses? \n",
        "\n",
        "The bucket representation model performed better since it has a lower RMSE."
      ]
    },
    {
      "cell_type": "code",
      "metadata": {
        "id": "6sUlX1335UCb"
      },
      "source": [
        "#@title Double-click for an answer to Task 2.\n",
        "\n",
        "# Bucket representation outperformed \n",
        "# floating-point representations.  \n",
        "# However, you can still do far better."
      ],
      "execution_count": 10,
      "outputs": []
    },
    {
      "cell_type": "markdown",
      "metadata": {
        "id": "ab6-bhUvxbTL"
      },
      "source": [
        "## Task 3: What is a better way to represent location?\n",
        "\n",
        "Buckets are a big improvement over floating-point values. Can you identify an even better way to identify location with `latitude` and `longitude`?\n",
        "Creating a cross feature column"
      ]
    },
    {
      "cell_type": "code",
      "metadata": {
        "id": "5no5X0OFCwf7",
        "cellView": "form"
      },
      "source": [
        "#@title Double-click to view an answer to Task 3.\n",
        "\n",
        "# Representing location as a feature cross should \n",
        "# produce better results.\n",
        "\n",
        "# In Task 2, you represented latitude in \n",
        "# one-dimensional buckets and longitude in \n",
        "# another series of one-dimensional buckets. \n",
        "# Real-world locations, however, exist in \n",
        "# two dimension. Therefore, you should\n",
        "# represent location as a two-dimensional feature\n",
        "# cross. That is, you'll cross the 10 or so latitude \n",
        "# buckets with the 10 or so longitude buckets to \n",
        "# create a grid of 100 cells. \n",
        "\n",
        "# The model will learn separate weights for each \n",
        "# of the cells."
      ],
      "execution_count": 11,
      "outputs": []
    },
    {
      "cell_type": "markdown",
      "metadata": {
        "id": "T1ulCDiyGB6g"
      },
      "source": [
        "## Represent location as a feature cross\n",
        "\n",
        "The following code cell represents location as a feature cross. That is, the following code cell first creates buckets and then calls `tf.feature_column.crossed_column` to cross the buckets.\n",
        "\n"
      ]
    },
    {
      "cell_type": "code",
      "metadata": {
        "id": "HunsuEzqn21s",
        "cellView": "both"
      },
      "source": [
        "resolution_in_degrees = 1.0 \n",
        "\n",
        "# Create a new empty list that will eventually hold the generated feature column.\n",
        "feature_columns = []\n",
        "\n",
        "# Create a bucket feature column for latitude.\n",
        "latitude_as_a_numeric_column = tf.feature_column.numeric_column(\"latitude\")\n",
        "latitude_boundaries = list(np.arange(int(min(train_df['latitude'])), int(max(train_df['latitude'])), resolution_in_degrees))\n",
        "latitude = tf.feature_column.bucketized_column(latitude_as_a_numeric_column, latitude_boundaries)\n",
        "\n",
        "# Create a bucket feature column for longitude.\n",
        "longitude_as_a_numeric_column = tf.feature_column.numeric_column(\"longitude\")\n",
        "longitude_boundaries = list(np.arange(int(min(train_df['longitude'])), int(max(train_df['longitude'])), resolution_in_degrees))\n",
        "longitude = tf.feature_column.bucketized_column(longitude_as_a_numeric_column, longitude_boundaries)\n",
        "\n",
        "# Create a feature cross of latitude and longitude.\n",
        "latitude_x_longitude = tf.feature_column.crossed_column([latitude, longitude], hash_bucket_size=100)\n",
        "crossed_feature = tf.feature_column.indicator_column(latitude_x_longitude)\n",
        "feature_columns.append(crossed_feature)\n",
        "\n",
        "# Convert the list of feature columns into a layer that will later be fed into\n",
        "# the model. \n",
        "feature_cross_feature_layer = layers.DenseFeatures(feature_columns)"
      ],
      "execution_count": 12,
      "outputs": []
    },
    {
      "cell_type": "markdown",
      "metadata": {
        "id": "akRgNnnH3VXJ"
      },
      "source": [
        "Invoke the following code cell to test your solution for Task 3. Please ignore the warning messages."
      ]
    },
    {
      "cell_type": "code",
      "metadata": {
        "id": "qn2PRDBEr5ni",
        "colab": {
          "base_uri": "https://localhost:8080/",
          "height": 1000
        },
        "outputId": "01a2eff3-1a7d-46d9-f86a-80fa68726fb4"
      },
      "source": [
        "# The following variables are the hyperparameters.\n",
        "learning_rate = 0.04\n",
        "epochs = 35\n",
        "\n",
        "# Build the model, this time passing in the feature_cross_feature_layer: \n",
        "my_model = create_model(learning_rate, feature_cross_feature_layer)\n",
        "\n",
        "# Train the model on the training set.\n",
        "epochs, rmse = train_model(my_model, train_df, epochs, batch_size, label_name)\n",
        "\n",
        "plot_the_loss_curve(epochs, rmse)\n",
        "\n",
        "print(\"\\n: Evaluate the new model against the test set:\")\n",
        "my_model.evaluate(x=test_features, y=test_label, batch_size=batch_size)"
      ],
      "execution_count": 13,
      "outputs": [
        {
          "output_type": "stream",
          "name": "stdout",
          "text": [
            "Epoch 1/35\n"
          ]
        },
        {
          "output_type": "stream",
          "name": "stderr",
          "text": [
            "/usr/local/lib/python3.7/dist-packages/keras/optimizers/optimizer_v2/rmsprop.py:135: UserWarning: The `lr` argument is deprecated, use `learning_rate` instead.\n",
            "  super(RMSprop, self).__init__(name, **kwargs)\n",
            "WARNING:tensorflow:Layers in a Sequential model should only have a single input tensor. Received: inputs={'longitude': <tf.Tensor 'IteratorGetNext:3' shape=(100,) dtype=float32>, 'latitude': <tf.Tensor 'IteratorGetNext:2' shape=(100,) dtype=float32>, 'housing_median_age': <tf.Tensor 'IteratorGetNext:1' shape=(100,) dtype=float32>, 'total_rooms': <tf.Tensor 'IteratorGetNext:7' shape=(100,) dtype=float32>, 'total_bedrooms': <tf.Tensor 'IteratorGetNext:6' shape=(100,) dtype=float32>, 'population': <tf.Tensor 'IteratorGetNext:5' shape=(100,) dtype=float32>, 'households': <tf.Tensor 'IteratorGetNext:0' shape=(100,) dtype=float32>, 'median_income': <tf.Tensor 'IteratorGetNext:4' shape=(100,) dtype=float32>}. Consider rewriting this model with the Functional API.\n",
            "WARNING:tensorflow:Layers in a Sequential model should only have a single input tensor. Received: inputs={'longitude': <tf.Tensor 'IteratorGetNext:3' shape=(100,) dtype=float32>, 'latitude': <tf.Tensor 'IteratorGetNext:2' shape=(100,) dtype=float32>, 'housing_median_age': <tf.Tensor 'IteratorGetNext:1' shape=(100,) dtype=float32>, 'total_rooms': <tf.Tensor 'IteratorGetNext:7' shape=(100,) dtype=float32>, 'total_bedrooms': <tf.Tensor 'IteratorGetNext:6' shape=(100,) dtype=float32>, 'population': <tf.Tensor 'IteratorGetNext:5' shape=(100,) dtype=float32>, 'households': <tf.Tensor 'IteratorGetNext:0' shape=(100,) dtype=float32>, 'median_income': <tf.Tensor 'IteratorGetNext:4' shape=(100,) dtype=float32>}. Consider rewriting this model with the Functional API.\n"
          ]
        },
        {
          "output_type": "stream",
          "name": "stdout",
          "text": [
            "170/170 [==============================] - 1s 2ms/step - loss: 53539.3945 - root_mean_squared_error: 231.3858\n",
            "Epoch 2/35\n",
            "170/170 [==============================] - 0s 2ms/step - loss: 48514.9531 - root_mean_squared_error: 220.2611\n",
            "Epoch 3/35\n",
            "170/170 [==============================] - 0s 2ms/step - loss: 43838.4766 - root_mean_squared_error: 209.3764\n",
            "Epoch 4/35\n",
            "170/170 [==============================] - 0s 2ms/step - loss: 39505.9023 - root_mean_squared_error: 198.7609\n",
            "Epoch 5/35\n",
            "170/170 [==============================] - 0s 2ms/step - loss: 35481.6016 - root_mean_squared_error: 188.3656\n",
            "Epoch 6/35\n",
            "170/170 [==============================] - 0s 2ms/step - loss: 31778.8418 - root_mean_squared_error: 178.2662\n",
            "Epoch 7/35\n",
            "170/170 [==============================] - 0s 2ms/step - loss: 28435.9844 - root_mean_squared_error: 168.6297\n",
            "Epoch 8/35\n",
            "170/170 [==============================] - 0s 2ms/step - loss: 25412.7695 - root_mean_squared_error: 159.4138\n",
            "Epoch 9/35\n",
            "170/170 [==============================] - 0s 2ms/step - loss: 22698.7520 - root_mean_squared_error: 150.6611\n",
            "Epoch 10/35\n",
            "170/170 [==============================] - 0s 2ms/step - loss: 20291.8867 - root_mean_squared_error: 142.4496\n",
            "Epoch 11/35\n",
            "170/170 [==============================] - 0s 2ms/step - loss: 18211.3691 - root_mean_squared_error: 134.9495\n",
            "Epoch 12/35\n",
            "170/170 [==============================] - 0s 2ms/step - loss: 16379.1191 - root_mean_squared_error: 127.9809\n",
            "Epoch 13/35\n",
            "170/170 [==============================] - 0s 2ms/step - loss: 14820.1426 - root_mean_squared_error: 121.7380\n",
            "Epoch 14/35\n",
            "170/170 [==============================] - 0s 2ms/step - loss: 13535.8311 - root_mean_squared_error: 116.3436\n",
            "Epoch 15/35\n",
            "170/170 [==============================] - 0s 2ms/step - loss: 12486.6699 - root_mean_squared_error: 111.7438\n",
            "Epoch 16/35\n",
            "170/170 [==============================] - 0s 2ms/step - loss: 11658.3535 - root_mean_squared_error: 107.9739\n",
            "Epoch 17/35\n",
            "170/170 [==============================] - 0s 2ms/step - loss: 11041.7080 - root_mean_squared_error: 105.0795\n",
            "Epoch 18/35\n",
            "170/170 [==============================] - 0s 2ms/step - loss: 10607.0410 - root_mean_squared_error: 102.9905\n",
            "Epoch 19/35\n",
            "170/170 [==============================] - 0s 2ms/step - loss: 10322.6416 - root_mean_squared_error: 101.6004\n",
            "Epoch 20/35\n",
            "170/170 [==============================] - 0s 2ms/step - loss: 10131.1699 - root_mean_squared_error: 100.6537\n",
            "Epoch 21/35\n",
            "170/170 [==============================] - 0s 2ms/step - loss: 10004.5469 - root_mean_squared_error: 100.0227\n",
            "Epoch 22/35\n",
            "170/170 [==============================] - 0s 2ms/step - loss: 9907.3174 - root_mean_squared_error: 99.5355\n",
            "Epoch 23/35\n",
            "170/170 [==============================] - 0s 2ms/step - loss: 9832.9619 - root_mean_squared_error: 99.1613\n",
            "Epoch 24/35\n",
            "170/170 [==============================] - 0s 2ms/step - loss: 9777.3447 - root_mean_squared_error: 98.8805\n",
            "Epoch 25/35\n",
            "170/170 [==============================] - 0s 2ms/step - loss: 9735.5195 - root_mean_squared_error: 98.6687\n",
            "Epoch 26/35\n",
            "170/170 [==============================] - 0s 2ms/step - loss: 9703.1758 - root_mean_squared_error: 98.5047\n",
            "Epoch 27/35\n",
            "170/170 [==============================] - 0s 2ms/step - loss: 9679.3369 - root_mean_squared_error: 98.3836\n",
            "Epoch 28/35\n",
            "170/170 [==============================] - 0s 2ms/step - loss: 9661.8564 - root_mean_squared_error: 98.2947\n",
            "Epoch 29/35\n",
            "170/170 [==============================] - 0s 2ms/step - loss: 9648.5723 - root_mean_squared_error: 98.2271\n",
            "Epoch 30/35\n",
            "170/170 [==============================] - 0s 2ms/step - loss: 9639.1426 - root_mean_squared_error: 98.1791\n",
            "Epoch 31/35\n",
            "170/170 [==============================] - 0s 2ms/step - loss: 9632.1992 - root_mean_squared_error: 98.1438\n",
            "Epoch 32/35\n",
            "170/170 [==============================] - 0s 2ms/step - loss: 9627.1768 - root_mean_squared_error: 98.1182\n",
            "Epoch 33/35\n",
            "170/170 [==============================] - 0s 2ms/step - loss: 9623.2012 - root_mean_squared_error: 98.0979\n",
            "Epoch 34/35\n",
            "170/170 [==============================] - 0s 2ms/step - loss: 9620.1094 - root_mean_squared_error: 98.0822\n",
            "Epoch 35/35\n",
            "170/170 [==============================] - 0s 2ms/step - loss: 9617.7393 - root_mean_squared_error: 98.0701\n"
          ]
        },
        {
          "output_type": "display_data",
          "data": {
            "text/plain": [
              "<Figure size 432x288 with 1 Axes>"
            ],
            "image/png": "[encoded data removed]"
          },
          "metadata": {
            "needs_background": "light"
          }
        },
        {
          "output_type": "stream",
          "name": "stdout",
          "text": [
            "\n",
            ": Evaluate the new model against the test set:\n"
          ]
        },
        {
          "output_type": "stream",
          "name": "stderr",
          "text": [
            "WARNING:tensorflow:Layers in a Sequential model should only have a single input tensor. Received: inputs={'longitude': <tf.Tensor 'IteratorGetNext:3' shape=(100,) dtype=float32>, 'latitude': <tf.Tensor 'IteratorGetNext:2' shape=(100,) dtype=float32>, 'housing_median_age': <tf.Tensor 'IteratorGetNext:1' shape=(100,) dtype=float32>, 'total_rooms': <tf.Tensor 'IteratorGetNext:7' shape=(100,) dtype=float32>, 'total_bedrooms': <tf.Tensor 'IteratorGetNext:6' shape=(100,) dtype=float32>, 'population': <tf.Tensor 'IteratorGetNext:5' shape=(100,) dtype=float32>, 'households': <tf.Tensor 'IteratorGetNext:0' shape=(100,) dtype=float32>, 'median_income': <tf.Tensor 'IteratorGetNext:4' shape=(100,) dtype=float32>}. Consider rewriting this model with the Functional API.\n"
          ]
        },
        {
          "output_type": "stream",
          "name": "stdout",
          "text": [
            "30/30 [==============================] - 0s 2ms/step - loss: 9521.5146 - root_mean_squared_error: 97.5782\n"
          ]
        },
        {
          "output_type": "execute_result",
          "data": {
            "text/plain": [
              "[9521.5146484375, 97.5782470703125]"
            ]
          },
          "metadata": {},
          "execution_count": 13
        }
      ]
    },
    {
      "cell_type": "markdown",
      "metadata": {
        "id": "bCT-l1GaWNQE"
      },
      "source": [
        "## Task 4: Did the feature cross outperform buckets?\n",
        "\n",
        "Compare the model's `root_mean_squared_error` values for the two representations (buckets vs. feature cross)?  Which model produced\n",
        "lower losses?  \n",
        "\n",
        "The feature cross did perform better"
      ]
    },
    {
      "cell_type": "code",
      "metadata": {
        "id": "HUzdWDcs5rCi"
      },
      "source": [
        "#@title Double-click for an answer to this question.\n",
        "\n",
        "# Yes, representing these features as a feature \n",
        "# cross produced much lower loss values than \n",
        "# representing these features as buckets"
      ],
      "execution_count": 14,
      "outputs": []
    },
    {
      "cell_type": "markdown",
      "metadata": {
        "id": "J9Iw3ljfXqSQ"
      },
      "source": [
        "## Task 5: Adjust the resolution of the feature cross\n",
        "\n",
        "Return to the code cell in the \"Represent location as a feature cross\" section. Notice that `resolution_in_degrees` is set to 1.0. Therefore, each cell represents an area of 1.0 degree of latitude by 1.0 degree of longitude, which corresponds to a cell of 110 km by 90 km.  This resolution defines a rather large neighborhood. \n",
        "\n",
        "Experiment with `resolution_in_degrees` to answer the following questions:\n",
        "\n",
        "  1. What value of `resolution_in_degrees` produces the best results (lowest loss value)?\n",
        "\n",
        "around 0,5 \n",
        "\n",
        "  2. Why does loss increase when the value of `resolution_in_degrees` drops below a certain value?\n",
        "\n",
        "Because it would just be just like using floating point values to represent which is useless\n",
        "\n",
        "Finally, answer the following question:\n",
        "\n",
        "  3. What feature (that does not exist in the California Housing Dataset) would\n",
        "     be a better proxy for location than latitude X longitude.\n",
        "\n",
        "Name of street or district"
      ]
    },
    {
      "cell_type": "code",
      "metadata": {
        "id": "71WWwlhx4h0X"
      },
      "source": [
        "#@title Double-click for possible answers to Task 5.\n",
        "\n",
        "#1. A resolution of ~0.4 degree provides the best \n",
        "#   results.\n",
        "\n",
        "#2. Below ~0.4 degree, loss increases because the \n",
        "#   dataset does not contain enough examples in \n",
        "#   each cell to accurately predict prices for \n",
        "#   those cells.\n",
        "\n",
        "#3. Postal code would be a far better feature \n",
        "#   than latitude X longitude, assuming that \n",
        "#   the dataset contained sufficient examples \n",
        "#   in each postal code."
      ],
      "execution_count": 15,
      "outputs": []
    }
  ]
}